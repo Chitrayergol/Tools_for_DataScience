{
  "metadata": {
    "kernelspec": {
      "name": "python",
      "display_name": "Pyolite",
      "language": "python"
    },
    "language_info": {
      "codemirror_mode": {
        "name": "python",
        "version": 3
      },
      "file_extension": ".py",
      "mimetype": "text/x-python",
      "name": "python",
      "nbconvert_exporter": "python",
      "pygments_lexer": "ipython3",
      "version": "3.8"
    }
  },
  "nbformat_minor": 4,
  "nbformat": 4,
  "cells": [
    {
      "cell_type": "markdown",
      "source": "<center>\n    <img src=\"https://cf-courses-data.s3.us.cloud-object-storage.appdomain.cloud/IBMDeveloperSkillsNetwork-DS0105EN-SkillsNetwork/labs/Module2/images/SN_web_lightmode.png\" width=\"300\" alt=\"cognitiveclass.ai logo\">\n</center>\n",
      "metadata": {}
    },
    {
      "cell_type": "markdown",
      "source": "#### Add your code below following the instructions given in the course\n",
      "metadata": {}
    },
    {
      "cell_type": "markdown",
      "source": "\"My Jupyter Notebook on IBM Watson Studio\"",
      "metadata": {}
    },
    {
      "cell_type": "markdown",
      "source": "**CHITRA KULKARNI**\nI am a teacher for Mathematics, English and Science.",
      "metadata": {}
    },
    {
      "cell_type": "markdown",
      "source": "*I am interested in Data Science because I come from an analytical \nbackground and want to use my skills of research and Statistics.*",
      "metadata": {}
    },
    {
      "cell_type": "markdown",
      "source": "In the next cell, I am going to add two numbers and print the answer. The code can be used to add any two or more numbers.",
      "metadata": {}
    },
    {
      "cell_type": "code",
      "source": "A= 8\nB= 10\nC=A + B\nprint (C)",
      "metadata": {
        "trusted": true
      },
      "execution_count": 4,
      "outputs": [
        {
          "name": "stdout",
          "text": "18\n",
          "output_type": "stream"
        }
      ]
    },
    {
      "cell_type": "code",
      "source": "\"Following is Horizontal Rule.\"",
      "metadata": {},
      "execution_count": null,
      "outputs": []
    },
    {
      "cell_type": "markdown",
      "source": "\n***My hobbies are travelling and reading.***",
      "metadata": {}
    },
    {
      "cell_type": "code",
      "source": "\"Following is the bulleted list.\"",
      "metadata": {},
      "execution_count": null,
      "outputs": []
    },
    {
      "cell_type": "markdown",
      "source": "- The capital of India is New Delhi. -\n- The capital of France is Paris. -\n- The capital of Germany is Berlin. -",
      "metadata": {}
    },
    {
      "cell_type": "code",
      "source": "\"Following is the numbered list.\"",
      "metadata": {
        "trusted": true
      },
      "execution_count": 7,
      "outputs": [
        {
          "execution_count": 7,
          "output_type": "execute_result",
          "data": {
            "text/plain": "'Following is the numbered list.'"
          },
          "metadata": {}
        }
      ]
    },
    {
      "cell_type": "markdown",
      "source": "1. Potatoes\n2. Tomatoes\n3. Lemons\n4. Carrots\n5. Onions",
      "metadata": {}
    },
    {
      "cell_type": "code",
      "source": "",
      "metadata": {},
      "execution_count": null,
      "outputs": []
    }
  ]
}